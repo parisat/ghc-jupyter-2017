{
 "cells": [
  {
   "cell_type": "code",
   "execution_count": 27,
   "metadata": {},
   "outputs": [],
   "source": [
    "# Import statements\n",
    "from __future__ import division\n",
    "import pandas as pd\n",
    "import numpy as np\n",
    "\n",
    "%matplotlib inline\n",
    "import matplotlib as mpl\n",
    "import matplotlib.pyplot as plt\n",
    "\n",
    "from ipywidgets import *\n",
    "from IPython.display import display"
   ]
  },
  {
   "cell_type": "code",
   "execution_count": 12,
   "metadata": {},
   "outputs": [
    {
     "name": "stdout",
     "output_type": "stream",
     "text": [
      "Reading Processed CSV for Overview of Data\n"
     ]
    },
    {
     "data": {
      "text/html": [
       "<div>\n",
       "<style>\n",
       "    .dataframe thead tr:only-child th {\n",
       "        text-align: right;\n",
       "    }\n",
       "\n",
       "    .dataframe thead th {\n",
       "        text-align: left;\n",
       "    }\n",
       "\n",
       "    .dataframe tbody tr th {\n",
       "        vertical-align: top;\n",
       "    }\n",
       "</style>\n",
       "<table border=\"1\" class=\"dataframe\">\n",
       "  <thead>\n",
       "    <tr style=\"text-align: right;\">\n",
       "      <th></th>\n",
       "      <th>Unnamed: 0</th>\n",
       "      <th>Incident ID</th>\n",
       "      <th>Year</th>\n",
       "      <th>Month</th>\n",
       "      <th>Day</th>\n",
       "      <th>Country</th>\n",
       "      <th>Region</th>\n",
       "      <th>District</th>\n",
       "      <th>City</th>\n",
       "      <th>UN</th>\n",
       "      <th>...</th>\n",
       "      <th>Gender Male</th>\n",
       "      <th>Gender Female</th>\n",
       "      <th>Gender Unknown</th>\n",
       "      <th>Means of attack</th>\n",
       "      <th>Attack context</th>\n",
       "      <th>Location</th>\n",
       "      <th>Latitude</th>\n",
       "      <th>Longitude</th>\n",
       "      <th>Details</th>\n",
       "      <th>DateTime</th>\n",
       "    </tr>\n",
       "  </thead>\n",
       "  <tbody>\n",
       "    <tr>\n",
       "      <th>0</th>\n",
       "      <td>5</td>\n",
       "      <td>5</td>\n",
       "      <td>1997</td>\n",
       "      <td>2</td>\n",
       "      <td>14</td>\n",
       "      <td>Rwanda</td>\n",
       "      <td>Kigali</td>\n",
       "      <td>NaN</td>\n",
       "      <td>Kigali</td>\n",
       "      <td>1</td>\n",
       "      <td>...</td>\n",
       "      <td>0</td>\n",
       "      <td>0</td>\n",
       "      <td>1</td>\n",
       "      <td>Shooting (small arms</td>\n",
       "      <td>Individual</td>\n",
       "      <td>Unknown</td>\n",
       "      <td>-1.9508511</td>\n",
       "      <td>30.0615075</td>\n",
       "      <td>1 UN national staff shot and killed in Kigali ...</td>\n",
       "      <td>1997-02-14</td>\n",
       "    </tr>\n",
       "    <tr>\n",
       "      <th>1</th>\n",
       "      <td>7</td>\n",
       "      <td>6</td>\n",
       "      <td>1997</td>\n",
       "      <td>5</td>\n",
       "      <td>7</td>\n",
       "      <td>Sierra Leone</td>\n",
       "      <td>NaN</td>\n",
       "      <td>NaN</td>\n",
       "      <td>NaN</td>\n",
       "      <td>3</td>\n",
       "      <td>...</td>\n",
       "      <td>1</td>\n",
       "      <td>0</td>\n",
       "      <td>2</td>\n",
       "      <td>Unknown</td>\n",
       "      <td>Ambush</td>\n",
       "      <td>Unknown</td>\n",
       "      <td>8.6400349</td>\n",
       "      <td>-11.8400269</td>\n",
       "      <td>1 UN national staff driver killed and 2 UN nat...</td>\n",
       "      <td>1997-05-07</td>\n",
       "    </tr>\n",
       "    <tr>\n",
       "      <th>2</th>\n",
       "      <td>9</td>\n",
       "      <td>12</td>\n",
       "      <td>1997</td>\n",
       "      <td>6</td>\n",
       "      <td>8</td>\n",
       "      <td>Rwanda</td>\n",
       "      <td>Northern</td>\n",
       "      <td>Musanze</td>\n",
       "      <td>Ruhengeri</td>\n",
       "      <td>0</td>\n",
       "      <td>...</td>\n",
       "      <td>1</td>\n",
       "      <td>0</td>\n",
       "      <td>0</td>\n",
       "      <td>Unknown</td>\n",
       "      <td>Combat (or police operations)</td>\n",
       "      <td>Unknown</td>\n",
       "      <td>-1.49984</td>\n",
       "      <td>29.63497</td>\n",
       "      <td>1 INGO national staff killed when he was among...</td>\n",
       "      <td>1997-06-08</td>\n",
       "    </tr>\n",
       "    <tr>\n",
       "      <th>3</th>\n",
       "      <td>10</td>\n",
       "      <td>8</td>\n",
       "      <td>1997</td>\n",
       "      <td>6</td>\n",
       "      <td>14</td>\n",
       "      <td>Rwanda</td>\n",
       "      <td>Northern</td>\n",
       "      <td>Musanze</td>\n",
       "      <td>Ruhengeri</td>\n",
       "      <td>1</td>\n",
       "      <td>...</td>\n",
       "      <td>1</td>\n",
       "      <td>0</td>\n",
       "      <td>0</td>\n",
       "      <td>Shooting (small arms</td>\n",
       "      <td>Individual</td>\n",
       "      <td>Home</td>\n",
       "      <td>-1.49984</td>\n",
       "      <td>29.63497</td>\n",
       "      <td>1 UN national staff shot and killed in Ruhenge...</td>\n",
       "      <td>1997-06-14</td>\n",
       "    </tr>\n",
       "    <tr>\n",
       "      <th>4</th>\n",
       "      <td>11</td>\n",
       "      <td>9</td>\n",
       "      <td>1997</td>\n",
       "      <td>6</td>\n",
       "      <td>17</td>\n",
       "      <td>Rwanda</td>\n",
       "      <td>Northern</td>\n",
       "      <td>Musanze</td>\n",
       "      <td>Ruhengeri</td>\n",
       "      <td>1</td>\n",
       "      <td>...</td>\n",
       "      <td>0</td>\n",
       "      <td>0</td>\n",
       "      <td>1</td>\n",
       "      <td>Shooting (small arms</td>\n",
       "      <td>Detention</td>\n",
       "      <td>Unknown</td>\n",
       "      <td>-1.49984</td>\n",
       "      <td>29.63497</td>\n",
       "      <td>1 UN national staff shot and killed in Ruhenge...</td>\n",
       "      <td>1997-06-17</td>\n",
       "    </tr>\n",
       "  </tbody>\n",
       "</table>\n",
       "<p>5 rows × 37 columns</p>\n",
       "</div>"
      ],
      "text/plain": [
       "   Unnamed: 0  Incident ID  Year  Month  Day       Country     Region  \\\n",
       "0           5            5  1997      2   14        Rwanda     Kigali   \n",
       "1           7            6  1997      5    7  Sierra Leone        NaN   \n",
       "2           9           12  1997      6    8        Rwanda  Northern    \n",
       "3          10            8  1997      6   14        Rwanda  Northern    \n",
       "4          11            9  1997      6   17        Rwanda  Northern    \n",
       "\n",
       "   District       City  UN     ...      Gender Male  Gender Female  \\\n",
       "0       NaN     Kigali   1     ...                0              0   \n",
       "1       NaN        NaN   3     ...                1              0   \n",
       "2  Musanze   Ruhengeri   0     ...                1              0   \n",
       "3  Musanze   Ruhengeri   1     ...                1              0   \n",
       "4  Musanze   Ruhengeri   1     ...                0              0   \n",
       "\n",
       "   Gender Unknown        Means of attack                   Attack context  \\\n",
       "0               1  Shooting (small arms                        Individual   \n",
       "1               2                Unknown                           Ambush   \n",
       "2               0                Unknown   Combat (or police operations)    \n",
       "3               0  Shooting (small arms                        Individual   \n",
       "4               1  Shooting (small arms                         Detention   \n",
       "\n",
       "   Location    Latitude    Longitude  \\\n",
       "0   Unknown  -1.9508511   30.0615075   \n",
       "1   Unknown   8.6400349  -11.8400269   \n",
       "2   Unknown    -1.49984     29.63497   \n",
       "3     Home     -1.49984     29.63497   \n",
       "4   Unknown    -1.49984     29.63497   \n",
       "\n",
       "                                             Details    DateTime  \n",
       "0  1 UN national staff shot and killed in Kigali ...  1997-02-14  \n",
       "1  1 UN national staff driver killed and 2 UN nat...  1997-05-07  \n",
       "2  1 INGO national staff killed when he was among...  1997-06-08  \n",
       "3  1 UN national staff shot and killed in Ruhenge...  1997-06-14  \n",
       "4  1 UN national staff shot and killed in Ruhenge...  1997-06-17  \n",
       "\n",
       "[5 rows x 37 columns]"
      ]
     },
     "execution_count": 12,
     "metadata": {},
     "output_type": "execute_result"
    }
   ],
   "source": [
    "print (\"Reading Processed CSV for Overview of Data\")\n",
    "security_incidents = pd.read_csv(\"processed_data/security_incidents2016-10-03_datetime.csv\", encoding = \"ISO-8859-1\")\n",
    "security_incidents.head()"
   ]
  },
  {
   "cell_type": "code",
   "execution_count": 13,
   "metadata": {},
   "outputs": [
    {
     "name": "stdout",
     "output_type": "stream",
     "text": [
      "Exploring Injury Totals for the Year 2015\n",
      "106\n",
      "109\n",
      "68\n"
     ]
    }
   ],
   "source": [
    "print (\"Exploring Injury Totals for the Year 2015\")\n",
    "print (security_incidents[security_incidents.Year == 2015]['Total killed'].sum())\n",
    "print (security_incidents[security_incidents.Year == 2015]['Total wounded'].sum())\n",
    "print (security_incidents[security_incidents.Year == 2015]['Total kidnapped'].sum())"
   ]
  },
  {
   "cell_type": "code",
   "execution_count": 52,
   "metadata": {},
   "outputs": [
    {
     "name": "stdout",
     "output_type": "stream",
     "text": [
      "Exploring Total Kill Trends by Country\n"
     ]
    },
    {
     "data": {
      "application/vnd.jupyter.widget-view+json": {
       "model_id": "29cd848cc52d4c8ca872cbb9a4b173a9",
       "version_major": 2,
       "version_minor": 0
      },
      "text/plain": [
       "A Jupyter Widget"
      ]
     },
     "metadata": {},
     "output_type": "display_data"
    },
    {
     "data": {
      "text/plain": [
       "<function __main__.f>"
      ]
     },
     "execution_count": 52,
     "metadata": {},
     "output_type": "execute_result"
    }
   ],
   "source": [
    "print(\"Exploring Total Kill Trends by Country\")\n",
    "si = security_incidents\n",
    "\n",
    "def f(year):\n",
    "    graph_title = \"Top 10 Total Kills by Country (\" + str(year) + \")\"\n",
    "    country_group = si[si.Year == year].groupby('Country')\n",
    "    country_totals = country_group.sum()\n",
    "    my_plot = country_totals.sort_values('Total killed', ascending=False)['Total killed'].head(10).plot(kind='bar',legend=None,title=graph_title)\n",
    "    my_plot.set_xlabel(\"Country\")\n",
    "    my_plot.set_ylabel(\"Total killed\")\n",
    "interact(f, year=widgets.IntSlider(min=1997,max=2016,step=1,value=1997))"
   ]
  },
  {
   "cell_type": "code",
   "execution_count": null,
   "metadata": {
    "collapsed": true
   },
   "outputs": [],
   "source": []
  }
 ],
 "metadata": {
  "kernelspec": {
   "display_name": "Python 3",
   "language": "python",
   "name": "python3"
  },
  "language_info": {
   "codemirror_mode": {
    "name": "ipython",
    "version": 3
   },
   "file_extension": ".py",
   "mimetype": "text/x-python",
   "name": "python",
   "nbconvert_exporter": "python",
   "pygments_lexer": "ipython3",
   "version": "3.6.2"
  }
 },
 "nbformat": 4,
 "nbformat_minor": 2
}
